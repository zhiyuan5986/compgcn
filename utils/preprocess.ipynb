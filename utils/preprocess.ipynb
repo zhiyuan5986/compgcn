{
 "cells": [
  {
   "cell_type": "code",
   "execution_count": 2,
   "metadata": {},
   "outputs": [],
   "source": [
    "\n",
    "import torch\n",
    "import os\n",
    "import pickle as pkl\n",
    "torch.manual_seed(0)\n",
    "os.environ['DGLBACKEND'] = 'pytorch'\n",
    "import numpy as np\n",
    "import pandas as pd\n",
    "import networkx as nx\n",
    "import torch\n",
    "import torch.nn as nn\n",
    "import torch.nn.functional as F\n",
    "import dgl\n",
    "import dgl.nn as dglnn\n",
    "import dgl.function as fn\n",
    "from dgl.nn import HeteroGraphConv, GATConv, SAGEConv, GraphConv\n",
    "from dgl.dataloading import (\n",
    "    DataLoader,\n",
    "    MultiLayerFullNeighborSampler,\n",
    "    negative_sampler,\n",
    "    NeighborSampler,\n",
    ")\n",
    "import tqdm\n",
    "import copy\n",
    "# https://openhgnn.readthedocs.io/en/latest/advanced_materials/developer_guide.html#evaluate-a-new-dataset"
   ]
  },
  {
   "cell_type": "code",
   "execution_count": 4,
   "metadata": {},
   "outputs": [
    {
     "name": "stdout",
     "output_type": "stream",
     "text": [
      "Number of citation edges: 327113\n",
      "Number of existing references: 682421\n",
      "Number of author-paper pairs to predict: 2047262\n",
      "Number of coauthor edges: 9663\n",
      "Shape of paper features: torch.Size([79937, 512])\n"
     ]
    }
   ],
   "source": [
    "# 读入边\n",
    "\n",
    "\n",
    "def read_txt(file):\n",
    "    res_list = list()\n",
    "    with open(file, \"r\") as f:\n",
    "        line_list = f.readlines()\n",
    "    for line in line_list:\n",
    "        res_list.append(list(map(int, line.strip().split(' '))))      \n",
    "    return res_list\n",
    "\n",
    "base_path = \"../../cs3319-02-project-1-graph-based-recommendation\"\n",
    "\n",
    "\n",
    "cite_file = \"paper_file_ann.txt\"\n",
    "train_ref_file = \"bipartite_train_ann.txt\"\n",
    "test_ref_file = \"bipartite_test_ann.txt\"\n",
    "coauthor_file = \"author_file_ann.txt\"\n",
    "feature_file = \"feature.pkl\"\n",
    "\n",
    "citation = read_txt(os.path.join(base_path, cite_file))\n",
    "existing_refs = read_txt(os.path.join(base_path, train_ref_file))\n",
    "refs_to_pred = read_txt(os.path.join(base_path, test_ref_file))\n",
    "coauthor = read_txt(os.path.join(base_path, coauthor_file))\n",
    "\n",
    "feature_file = os.path.join(base_path, feature_file)\n",
    "with open(feature_file, 'rb') as f:\n",
    "      paper_feature = pkl.load(f)\n",
    "        \n",
    "\n",
    "\n",
    "print(\"Number of citation edges: {}\\n\\\n",
    "Number of existing references: {}\\n\\\n",
    "Number of author-paper pairs to predict: {}\\n\\\n",
    "Number of coauthor edges: {}\\n\\\n",
    "Shape of paper features: {}\"\n",
    ".format(len(citation), len(existing_refs), len(refs_to_pred), len(coauthor), paper_feature.shape))"
   ]
  },
  {
   "cell_type": "code",
   "execution_count": 5,
   "metadata": {},
   "outputs": [
    {
     "name": "stdout",
     "output_type": "stream",
     "text": [
      "     source  target\n",
      "c-0       0       1\n",
      "c-1       0       2\n",
      "c-2       0       3\n",
      "c-3       0       4\n",
      "c-4       0       5\n",
      "Number of paper nodes: 79937, number of author nodes: 6611\n"
     ]
    }
   ],
   "source": [
    "# 转化为Dataframe\n",
    "\n",
    "cite_edges = pd.DataFrame(citation, columns=['source', 'target'])\n",
    "cite_edges = cite_edges.set_index(\n",
    "    \"c-\" + cite_edges.index.astype(str)\n",
    ")\n",
    "\n",
    "ref_edges = pd.DataFrame(existing_refs, columns=['source', 'target'])\n",
    "ref_edges = ref_edges.set_index(\n",
    "    \"r-\" + ref_edges.index.astype(str)\n",
    ")\n",
    "\n",
    "pred_ref_edges = pd.DataFrame(refs_to_pred, columns=['source', 'target'])\n",
    "pred_ref_edges = pred_ref_edges.set_index(\n",
    "    \"pr-\" + pred_ref_edges.index.astype(str)\n",
    ")\n",
    "\n",
    "\n",
    "coauthor_edges = pd.DataFrame(coauthor, columns=['source', 'target'])\n",
    "coauthor_edges = coauthor_edges.set_index(\n",
    "    \"a-\" + coauthor_edges.index.astype(str)\n",
    ")\n",
    "\n",
    "print(cite_edges.head())\n",
    "# ref_edges.head()\n",
    "# coauthor_edges.head()\n",
    "node_tmp = pd.concat([cite_edges.loc[:, 'source'], cite_edges.loc[:, 'target'], ref_edges.loc[:, 'target']])\n",
    "node_papers = pd.DataFrame(index=pd.unique(node_tmp))\n",
    "\n",
    "\n",
    "node_tmp = pd.concat([ref_edges['source'], coauthor_edges['source'], coauthor_edges['target']])\n",
    "node_authors = pd.DataFrame(index=pd.unique(node_tmp))\n",
    "\n",
    "print(\"Number of paper nodes: {}, number of author nodes: {}\".format(len(node_papers), len(node_authors)))"
   ]
  },
  {
   "cell_type": "code",
   "execution_count": 8,
   "metadata": {},
   "outputs": [
    {
     "name": "stdout",
     "output_type": "stream",
     "text": [
      "Graph(num_nodes={'author': 6611, 'paper': 79937},\n",
      "      num_edges={('author', 'co_author', 'author'): 19326, ('author', 'ref', 'paper'): 682421, ('paper', 'cite', 'paper'): 327113, ('paper', 'refed_by', 'author'): 682421},\n",
      "      metagraph=[('author', 'author', 'co_author'), ('author', 'paper', 'ref'), ('paper', 'paper', 'cite'), ('paper', 'author', 'refed_by')])\n"
     ]
    }
   ],
   "source": [
    "# 构建异构图：三种不同的边\n",
    "coauthor_torch_edges = torch.from_numpy(coauthor_edges.values)\n",
    "coauthor_torch_edges = torch.cat((coauthor_torch_edges, torch.flip(coauthor_torch_edges, dims=[1])), dim=0)\n",
    "\n",
    "cite_torch_edges = torch.from_numpy(cite_edges.values) \n",
    "ref_torch_edges = torch.from_numpy(ref_edges.values) \n",
    "\n",
    "pred_ref_torch_edges = torch.from_numpy(pred_ref_edges.values) \n",
    "\n",
    "graph_data = {\n",
    "   ('author', 'co_author', 'author'): (coauthor_torch_edges[:, 0], coauthor_torch_edges[:, 1]),\n",
    "   ('author', 'ref', 'paper'): (ref_torch_edges[:, 0], ref_torch_edges[:, 1]),\n",
    "   ('paper', 'cite', 'paper'): (cite_torch_edges[:, 0], cite_torch_edges[:, 1]),\n",
    "   ('paper', 'refed_by', 'author'): (ref_torch_edges[:, 1], ref_torch_edges[:, 0]),\n",
    "   # ('paper', 'cited_by', 'paper'): (cite_torch_edges[:, 1], cite_torch_edges[:, 0]),\n",
    "}\n",
    "g = dgl.heterograph(graph_data)\n",
    "print(g)\n",
    "g.nodes['paper'].data['h'] = paper_feature\n",
    "g.nodes['author'].data['h'] = torch.randn(len(node_authors), paper_feature.shape[1])\n",
    "dgl.save_graphs(\"./graph/demo_graph.bin\", g)\n",
    "\n",
    "pred_network = dgl.heterograph({\n",
    "   ('author', 'ref', 'paper'): (pred_ref_torch_edges[:, 0], pred_ref_torch_edges[:, 1]),\n",
    "   # ('paper', 'refed_by', 'author'): (pred_ref_torch_edges[:, 1], pred_ref_torch_edges[:, 0]),\n",
    "})\n",
    "pred_network.nodes['paper'].data['h'] = paper_feature\n",
    "pred_network.nodes['author'].data['h'] = g.nodes['author'].data['h']\n",
    "dgl.save_graphs(\"./graph/test_graph.bin\", pred_network)"
   ]
  },
  {
   "cell_type": "code",
   "execution_count": 5,
   "metadata": {},
   "outputs": [],
   "source": [
    "# second\n"
   ]
  }
 ],
 "metadata": {
  "kernelspec": {
   "display_name": "DataScience",
   "language": "python",
   "name": "python3"
  },
  "language_info": {
   "codemirror_mode": {
    "name": "ipython",
    "version": 3
   },
   "file_extension": ".py",
   "mimetype": "text/x-python",
   "name": "python",
   "nbconvert_exporter": "python",
   "pygments_lexer": "ipython3",
   "version": "3.9.12"
  },
  "orig_nbformat": 4
 },
 "nbformat": 4,
 "nbformat_minor": 2
}
